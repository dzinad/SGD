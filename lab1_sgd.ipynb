{
 "cells": [
  {
   "cell_type": "markdown",
   "metadata": {},
   "source": [
    "# Генерация случайных входных данных\n",
    " Сгенерируем 2k (2000) случайных точек: k из них лежат на прямой y = x -1, остальные k на прямой y = x + 1, x &isin; [-bound; bound] ([-200; 200]) Добавим гауссовский шум. Первой группе точек присвоим метку 1, второй -1. Создадим соответствующие массивы, объединим их в один. Разобьем выборку на обучающую и тестовую в соотношении 4:1. Так как по построению массивов x и y точки из разных групп распределены по всему массиву равномерно, то просто возьмем в качестве тестовой выборки последнюю пятую часть точек."
   ]
  },
  {
   "cell_type": "code",
   "execution_count": 296,
   "metadata": {},
   "outputs": [],
   "source": [
    "import numpy as np\n",
    "import matplotlib.pyplot as plt\n",
    "\n",
    "def f1(x):\n",
    "    return x + 1\n",
    "\n",
    "def f2(x):\n",
    "    return x - 1\n",
    "\n",
    "\n",
    "k = 1000\n",
    "bound = 200\n",
    "\n",
    "noise1 = np.random.normal(size = k, scale = 0.95)        \n",
    "noise2 = np.random.normal(size = k, scale = 0.95)        \n",
    "x1 = np.random.randint(-1 * bound, bound, k)\n",
    "y1 = f1(x1) + noise1\n",
    "x2 = np.random.randint(-1 * bound, bound, k)\n",
    "y2 = f2(x2) + noise2\n",
    "\n",
    "x = []\n",
    "y = []\n",
    "for i in range(0, k):\n",
    "    x.append([x1[i], y1[i]])\n",
    "    y.append(1)\n",
    "    x.append([x2[i], y2[i]])\n",
    "    y.append(-1)\n",
    "\n",
    "    \n",
    "x_train = x[:int(k * 0.8)]\n",
    "x_test = x[int(k * 0.8) + 1:]\n",
    "y_train = y[:int(k * 0.8)]\n",
    "y_test = y[int(k * 0.8) + 1:]"
   ]
  },
  {
   "cell_type": "markdown",
   "metadata": {},
   "source": [
    "# Создание классификатора\n",
    "Создадим бинарный линейный классификатор, который будет минимизировать функцию потерь HingeLoss: hl(x) = max(0, 1 - y &lowast; a(x)), где a(x) = &lt;w, x&gt; (x с добавленным в конец столбцом единиц). Минимизируем при этом только на тех иксах, которые дают неправильный ответ: для этого выбираем индексы i, для которых 1 - y[i] &lowast; a(x[i]) &gt; 0. В результате будет получен вектор весов w размерности n + 1, если на вход поступали n-мерные точки. Уравнение разделяющей плоскости при этом будет выглядеть следующим образом: w<sub>1</sub> &lowast; x<sub>1</sub> + w<sub>2</sub> &lowast; x<sub>2</sub> + ... + w<sub>n</sub> &lowast; x<sub>n</sub> + w<sub>n + 1</sub> = 0"
   ]
  },
  {
   "cell_type": "code",
   "execution_count": 295,
   "metadata": {},
   "outputs": [],
   "source": [
    "from numpy import linalg as la\n",
    "from random import randint\n",
    "\n",
    "class DClassifier(object):\n",
    "    \"\"\"docstring\"\"\"\n",
    " \n",
    "    def __init__(self, eps = 0.01):\n",
    "        \"\"\"Constructor\"\"\"\n",
    "        self.eps = eps\n",
    "        self.iter = 1\n",
    "    \n",
    "    def grad(self, x, y):\n",
    "        return -1. * y * x\n",
    "\n",
    "    def fit(self, x_arr, y_arr):\n",
    "        self.iter = 1\n",
    "        x = np.array(x_arr)\n",
    "        x = x.reshape(x.shape[0], -1)\n",
    "        l = x.shape[0]\n",
    "        x_expanded = np.hstack((x, np.ones((l, 1))))\n",
    "        d = x.shape[1]\n",
    "        y = np.array(y_arr)\n",
    "        self.w = np.zeros(d + 1)\n",
    "        c = 5.\n",
    "    \n",
    "        while True:\n",
    "            bad_indices = []\n",
    "            for i in range (0, l):\n",
    "                if y[i] * np.dot(x_expanded[i], self.w) < 1:\n",
    "                    bad_indices.append(i)\n",
    "            if len(bad_indices) == 0:\n",
    "                break\n",
    "            if len(bad_indices) == 1:\n",
    "                index = 0\n",
    "            else:\n",
    "                index = randint(0, len(bad_indices) - 1)\n",
    "            g = grad(x_expanded[bad_indices[index]], y[bad_indices[index]])\n",
    "            tmp = g * c / self.iter\n",
    "            prev = self.w\n",
    "            self.w = self.w - tmp\n",
    "            if (la.norm(self.w - prev) <= self.eps):\n",
    "                break\n",
    "            self.iter += 1\n",
    "\n",
    "    def get_iter_count(self):\n",
    "        return self.iter\n",
    "        \n",
    "    def predict(self, x_arr):\n",
    "        arr = []\n",
    "        x_expanded = np.hstack((x_arr, np.ones((len(x_arr), 1))))\n",
    "        for i in range(0, len(x_expanded)):\n",
    "            if (np.dot(x_expanded[i], self.w) >= 0):\n",
    "                arr.append(1)\n",
    "            else:\n",
    "                arr.append(-1)\n",
    "        return arr\n",
    "    \n",
    "    def graph2D(self, x, y):\n",
    "        x = np.array(x)\n",
    "        x1 = np.array([])\n",
    "        y1 = np.array([])\n",
    "        x2 = np.array([])\n",
    "        y2 = np.array([])\n",
    "        x_div = np.linspace(-1 * bound, bound, bound / 4)\n",
    "        y_div = 1. * (-1 * np.linspace(self.w[2], self.w[2], num = len(x_div)) - self.w[0] * x_div) / self.w[1]\n",
    "        for i in range (0, len(x)):\n",
    "            if y[i] == 1:\n",
    "                x1 = np.append(x1, x[i][0])\n",
    "                y1 = np.append(y1, x[i][1])\n",
    "            if y[i] == -1:\n",
    "                x2 = np.append(x2, x[i][0])\n",
    "                y2 = np.append(y2, x[i][1])\n",
    "        plt.scatter(x1, y1, c = 'red', s = 10, alpha = 0.2)\n",
    "        plt.scatter(x2, y2, c = 'yellow', s = 10, alpha = 0.2)\n",
    "        plt.plot(x_div, y_div, c = 'blue')\n",
    "        plt.show()               "
   ]
  },
  {
   "cell_type": "markdown",
   "metadata": {},
   "source": [
    "# Использование классификатора\n",
    "\n",
    "Обучим классификатор на обучающей выборке и попробуем использовать его для тестовой. Ответы запишем в переменную test1.\n",
    "Затем воспользуемся стандартным классификатором sklearn.linear_model.SGDClassifier, обучим его на той же обучающей выборке и проверим на той же тестовой. Результаты запишем в переменную test2.\n"
   ]
  },
  {
   "cell_type": "code",
   "execution_count": 297,
   "metadata": {},
   "outputs": [],
   "source": [
    "clf1 = DClassifier()\n",
    "clf1.fit(x_train, y_train)\n",
    "test1 = clf1.predict(x_test)\n",
    "\n",
    "from sklearn import linear_model\n",
    "clf2 = linear_model.SGDClassifier()\n",
    "clf2.fit(x_train, y_train)\n",
    "test2 = clf2.predict(x_test)"
   ]
  },
  {
   "cell_type": "markdown",
   "metadata": {},
   "source": [
    "# Сравнение результатов\n",
    "\n",
    "Сначала сравним результаты работы написанного классификатора и стандартного.\n",
    "Результаты различаются от запуска к запуску. Иногда совпадает более, чем на 80%, ногда менее, чем на 50. Бывают случаи, когда совпадение менее 10 процентов. Интересное наблюдение: тогда каждый из классификаторов классифицирует правильно примерно половину точек. Можно сделать вывод, что в этом случае верно классифицируются разные точки.\n"
   ]
  },
  {
   "cell_type": "code",
   "execution_count": 244,
   "metadata": {},
   "outputs": [
    {
     "name": "stdout",
     "output_type": "stream",
     "text": [
      "is my result equal to standard:\n",
      "0.958298582152\n"
     ]
    }
   ],
   "source": [
    "compare = np.array(test1) == np.array(test2)\n",
    "right = 1. / len(x_test) * np.sum(compare)\n",
    "print 'is my result equal to standard:'\n",
    "print right"
   ]
  },
  {
   "cell_type": "markdown",
   "metadata": {},
   "source": [
    "Оценим качество работы написанного классификатора на тестовой выборке. Результаты разные, но в подавляющем большинстве случаев верно классифицируется более 50% точек. В среднем этот процент достаточно высок: 70 - 80%."
   ]
  },
  {
   "cell_type": "code",
   "execution_count": 225,
   "metadata": {},
   "outputs": [
    {
     "name": "stdout",
     "output_type": "stream",
     "text": [
      "is my result equal to expected:\n",
      "0.650542118432\n"
     ]
    }
   ],
   "source": [
    "compare = np.array(test1) == np.array(y_test)\n",
    "right = 1. / len(x_test) * np.sum(compare)\n",
    "print 'is my result equal to expected:'\n",
    "print right"
   ]
  },
  {
   "cell_type": "markdown",
   "metadata": {},
   "source": [
    "Оценим качество работы стандартного классификатора на тестовой выборке. Результаты также различаются, при этом процент верно классифицированных точек может быть ниже, чем при использовании написанного классификатора. Но в среднем он дает примерно такой же процент: 70-80%.\n",
    "То, что иногда лучше работает написанный классификатор, а иногда стандартный, причем разница не в 3-5 процентов, а гораздо больше: 20-30, можно объяснить различиями в реализации метода fit()."
   ]
  },
  {
   "cell_type": "code",
   "execution_count": 226,
   "metadata": {},
   "outputs": [
    {
     "name": "stdout",
     "output_type": "stream",
     "text": [
      "is standard result equal to expected:\n",
      "0.517097581318\n"
     ]
    }
   ],
   "source": [
    "compare = np.array(y_test) == np.array(test2)\n",
    "right = 1. / len(x_test) * np.sum(compare)\n",
    "print 'is standard result equal to expected:'\n",
    "print right"
   ]
  },
  {
   "cell_type": "markdown",
   "metadata": {},
   "source": [
    "# График\n",
    "Нарисуем график, где обозначим точки из первой группы желтым, точки из второй группы - красным, разделяющую прямую - синим."
   ]
  },
  {
   "cell_type": "code",
   "execution_count": 280,
   "metadata": {},
   "outputs": [
    {
     "data": {
      "image/png": "[encoded data removed]",
      "text/plain": [
       "<matplotlib.figure.Figure at 0xdc7b048>"
      ]
     },
     "metadata": {},
     "output_type": "display_data"
    }
   ],
   "source": [
    "clf1.graph2D(x_test, y_test)"
   ]
  },
  {
   "cell_type": "markdown",
   "metadata": {},
   "source": [
    "# Размер шага\n",
    "При обучении использовался шаг c / t, где t - номер итерации, c = const > 0 (c = 0.5). Таким образом, чем больше итераций мы сделаем, тем меньше будет шаг, что увеличивает вероятность того, что мы не \"проскочим\" искомую точку. В то же время если бы шаг был маленьким изначально, то для получения ответа с достаточной точностью потребовалось бы очень много итераций. Поэтому такой размер шага кажется оптимальным. Узнаем, какой количество итераций потребовалось, чтобы обучить выборку с использованием шага c / t.\n",
    "Количество итераций для точности epsilon = 0.05 в среднем составляет около 180-200.<br>\n",
    "Теперь попробуем поменять шаг на константу. Результатов обучения при таких условиях и при больших значениях констант (я пробовала значения констант 0.01, 0.1, 0.5, 1, 10) я так и не дождалась (видимо, заданная точность никогда не достигалась, потому что алгоритм просто перескакивал через искомую точку), а при маленьких значениях (например, 0.0005) алгоритм слишком рано заканчивал работу (нужная точность достигалась практически сразу, потому что шаг в сторону антиградиента делался очень маленький), поэтому результат оказывался совесм не таким, каким должен был.<br>\n",
    "Попробуем взять менее быстро растующие, чем y = x, функции, и более быстро растущие.\n",
    "Шаг c / ln(t): ln(x) растет медленне, чем x. Результатов я тоже не дождалась, но, наблюдая за изменением вектора w на каждом шаге, можено было сделать вывод, что сходимость есть, но очень медленная.<br>\n",
    "Шаг c / sqrt(t): sqrt(x) тоже растет медленнее, чем x. Как и в случае с логарифмом: очень медленная сходимость.\n",
    "Шаг c / t^2: x^2 растет быстрее, чем x. Тоже оказался неподходящим, потому что, как и в случае константы, в некоторых случаях нужная точность достигалась слишком рано (шаг маленький).\n",
    "Таким образом, оптимальный размер шага: c / t.\n",
    "Подберем оптимальную константу.\n",
    "c = 1: итераций около 500\n",
    "с = 0.5: итераций около 200\n",
    "c = 0.1: итераций < 100, но результат плохой\n",
    "c = 2: итераций около 500\n",
    "с = 5: итераций > 1000\n",
    "Таким образом, оставляем шаг 0.5 / t."
   ]
  },
  {
   "cell_type": "code",
   "execution_count": 298,
   "metadata": {},
   "outputs": [
    {
     "name": "stdout",
     "output_type": "stream",
     "text": [
      "1551\n"
     ]
    }
   ],
   "source": [
    "print clf1.get_iter_count()"
   ]
  }
 ],
 "metadata": {
  "kernelspec": {
   "display_name": "Python 2",
   "language": "python",
   "name": "python2"
  },
  "language_info": {
   "codemirror_mode": {
    "name": "ipython",
    "version": 2
   },
   "file_extension": ".py",
   "mimetype": "text/x-python",
   "name": "python",
   "nbconvert_exporter": "python",
   "pygments_lexer": "ipython2",
   "version": "2.7.14"
  }
 },
 "nbformat": 4,
 "nbformat_minor": 2
}
