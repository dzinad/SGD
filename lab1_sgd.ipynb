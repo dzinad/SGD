{
 "cells": [
  {
   "cell_type": "code",
   "execution_count": 183,
   "metadata": {},
   "outputs": [
    {
     "data": {
      "image/png": "[encoded data removed]",
      "text/plain": [
       "<matplotlib.figure.Figure at 0xc63ac88>"
      ]
     },
     "metadata": {},
     "output_type": "display_data"
    },
    {
     "ename": "UnboundLocalError",
     "evalue": "local variable 'l' referenced before assignment",
     "output_type": "error",
     "traceback": [
      "\u001b[1;31m---------------------------------------------------------------------------\u001b[0m",
      "\u001b[1;31mUnboundLocalError\u001b[0m                         Traceback (most recent call last)",
      "\u001b[1;32m<ipython-input-183-e91de1264ce6>\u001b[0m in \u001b[0;36m<module>\u001b[1;34m()\u001b[0m\n\u001b[0;32m     65\u001b[0m \u001b[1;33m\u001b[0m\u001b[0m\n\u001b[0;32m     66\u001b[0m \u001b[1;33m\u001b[0m\u001b[0m\n\u001b[1;32m---> 67\u001b[1;33m \u001b[0mclassify\u001b[0m\u001b[1;33m(\u001b[0m\u001b[0mx_train\u001b[0m\u001b[1;33m,\u001b[0m \u001b[0my_train\u001b[0m\u001b[1;33m)\u001b[0m\u001b[1;33m\u001b[0m\u001b[0m\n\u001b[0m",
      "\u001b[1;32m<ipython-input-183-e91de1264ce6>\u001b[0m in \u001b[0;36mclassify\u001b[1;34m(x_arr, y_arr)\u001b[0m\n\u001b[0;32m     52\u001b[0m     \u001b[0mx\u001b[0m \u001b[1;33m=\u001b[0m \u001b[0mnp\u001b[0m\u001b[1;33m.\u001b[0m\u001b[0marray\u001b[0m\u001b[1;33m(\u001b[0m\u001b[0mx_arr\u001b[0m\u001b[1;33m)\u001b[0m\u001b[1;33m\u001b[0m\u001b[0m\n\u001b[0;32m     53\u001b[0m     \u001b[0mx\u001b[0m \u001b[1;33m=\u001b[0m \u001b[0mx\u001b[0m\u001b[1;33m.\u001b[0m\u001b[0mreshape\u001b[0m\u001b[1;33m(\u001b[0m\u001b[0mx\u001b[0m\u001b[1;33m.\u001b[0m\u001b[0mshape\u001b[0m\u001b[1;33m[\u001b[0m\u001b[1;36m0\u001b[0m\u001b[1;33m]\u001b[0m\u001b[1;33m,\u001b[0m \u001b[1;33m-\u001b[0m\u001b[1;36m1\u001b[0m\u001b[1;33m)\u001b[0m\u001b[1;33m\u001b[0m\u001b[0m\n\u001b[1;32m---> 54\u001b[1;33m     \u001b[0mx_expanded\u001b[0m \u001b[1;33m=\u001b[0m \u001b[0mnp\u001b[0m\u001b[1;33m.\u001b[0m\u001b[0mhstack\u001b[0m\u001b[1;33m(\u001b[0m\u001b[1;33m(\u001b[0m\u001b[0mx\u001b[0m\u001b[1;33m,\u001b[0m \u001b[0mnp\u001b[0m\u001b[1;33m.\u001b[0m\u001b[0mones\u001b[0m\u001b[1;33m(\u001b[0m\u001b[1;33m(\u001b[0m\u001b[0ml\u001b[0m\u001b[1;33m,\u001b[0m \u001b[1;36m1\u001b[0m\u001b[1;33m)\u001b[0m\u001b[1;33m)\u001b[0m\u001b[1;33m)\u001b[0m\u001b[1;33m)\u001b[0m\u001b[1;33m\u001b[0m\u001b[0m\n\u001b[0m\u001b[0;32m     55\u001b[0m     \u001b[0ml\u001b[0m \u001b[1;33m=\u001b[0m \u001b[0mx\u001b[0m\u001b[1;33m.\u001b[0m\u001b[0mshape\u001b[0m\u001b[1;33m[\u001b[0m\u001b[1;36m0\u001b[0m\u001b[1;33m]\u001b[0m\u001b[1;33m\u001b[0m\u001b[0m\n\u001b[0;32m     56\u001b[0m     \u001b[0md\u001b[0m \u001b[1;33m=\u001b[0m \u001b[0mx\u001b[0m\u001b[1;33m.\u001b[0m\u001b[0mshape\u001b[0m\u001b[1;33m[\u001b[0m\u001b[1;36m1\u001b[0m\u001b[1;33m]\u001b[0m\u001b[1;33m\u001b[0m\u001b[0m\n",
      "\u001b[1;31mUnboundLocalError\u001b[0m: local variable 'l' referenced before assignment"
     ]
    }
   ],
   "source": [
    "import numpy as np\n",
    "import matplotlib.pyplot as plt\n",
    "\n",
    "def f1(x):\n",
    "    return x + 1\n",
    "\n",
    "def f2(x):\n",
    "    return x - 1\n",
    "\n",
    "\n",
    "#generating input data\n",
    "k = 1000\n",
    "bound = 200\n",
    "\n",
    "noise1 = np.random.normal(size = k)        \n",
    "noise2 = np.random.normal(size = k)        \n",
    "x1 = np.random.randint(-1 * bound, bound, k)\n",
    "y1 = f1(x1) + noise1\n",
    "x2 = np.random.randint(-1 * bound, bound, k)\n",
    "y2 = f2(x2) + noise2\n",
    "\n",
    "plt.scatter(x1, y1, c = 'red', s = 3, alpha = 0.2)\n",
    "plt.scatter(x2, y2, c = 'yellow', s = 3, alpha = 0.2)\n",
    "plt.show()   \n",
    "x = []\n",
    "y = []\n",
    "for i in range(0, k):\n",
    "    x.append(x1[i])\n",
    "    x.append(x2[i])\n",
    "    y.append(y1[i])\n",
    "    y.append(y2[i])\n",
    "        \n",
    "from sklearn.cross_validation import train_test_split\n",
    "x_train, x_test, y_train, y_test = train_test_split(x, y, test_size = 0.2)\n",
    "\n",
    "\n",
    "def a(v1, v2):\n",
    "    return np.dot(v1, v2)\n",
    "\n",
    "def Q(x, y, w):\n",
    "    l = x.shape[0]\n",
    "    x_expanded = np.hstack((x, np.ones((l, 1))))\n",
    "    return (1. / l) * sum(((a(w, x_expanded[i]) - y[i]) ** 2 for i in range(0, l)))\n",
    "\n",
    "def grad(x, y, w):\n",
    "    l = x.shape[0]\n",
    "    arg1 = x.T\n",
    "    arg2 = np.subtract(np.dot(x, w), y)\n",
    "    return (2. / l) * np.dot(arg1, arg2)\n",
    "\n",
    "def classify(x_arr, y_arr):\n",
    "    x = np.array(x_arr)\n",
    "    x = x.reshape(x.shape[0], -1)\n",
    "    x_expanded = np.hstack((x, np.ones((l, 1))))\n",
    "    l = x.shape[0]\n",
    "    d = x.shape[1]\n",
    "    y = np.array(y_arr)\n",
    "    w = np.zeros(d + 1)\n",
    "    c = 0.0001\n",
    "    for t in range(1, 100):\n",
    "        g = grad(x_expanded, y, w)\n",
    "        tmp = g * (c / t)\n",
    "        w = w - tmp\n",
    "    print w\n",
    "    \n",
    "\n",
    "classify(x_train, y_train)"
   ]
  }
 ],
 "metadata": {
  "kernelspec": {
   "display_name": "Python 2",
   "language": "python",
   "name": "python2"
  },
  "language_info": {
   "codemirror_mode": {
    "name": "ipython",
    "version": 2
   },
   "file_extension": ".py",
   "mimetype": "text/x-python",
   "name": "python",
   "nbconvert_exporter": "python",
   "pygments_lexer": "ipython2",
   "version": "2.7.14"
  }
 },
 "nbformat": 4,
 "nbformat_minor": 2
}
