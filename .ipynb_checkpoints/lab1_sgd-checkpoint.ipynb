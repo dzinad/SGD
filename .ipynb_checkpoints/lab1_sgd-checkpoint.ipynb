{
 "cells": [
  {
   "cell_type": "code",
   "execution_count": 31,
   "metadata": {},
   "outputs": [
    {
     "data": {
      "image/png": "[encoded data removed]",
      "text/plain": [
       "<matplotlib.figure.Figure at 0xd5d8fd0>"
      ]
     },
     "metadata": {},
     "output_type": "display_data"
    },
    {
     "name": "stdout",
     "output_type": "stream",
     "text": [
      "[1, -1, -1]\n",
      "end\n"
     ]
    }
   ],
   "source": [
    "import numpy as np\n",
    "import matplotlib.pyplot as plt\n",
    "\n",
    "def f1(x):\n",
    "    return x + 1\n",
    "\n",
    "def f2(x):\n",
    "    return x - 1\n",
    "\n",
    "\n",
    "#generating input data\n",
    "k = 1000\n",
    "bound = 200\n",
    "\n",
    "noise1 = np.random.normal(size = k)        \n",
    "noise2 = np.random.normal(size = k)        \n",
    "x1 = np.random.randint(-1 * bound, bound, k)\n",
    "y1 = f1(x1) + noise1\n",
    "x2 = np.random.randint(-1 * bound, bound, k)\n",
    "y2 = f2(x2) + noise2\n",
    "\n",
    "plt.scatter(x1, y1, c = 'red', s = 3, alpha = 0.2)\n",
    "plt.scatter(x2, y2, c = 'yellow', s = 3, alpha = 0.2)\n",
    "plt.show()       \n",
    "\n",
    "x = []\n",
    "y = []\n",
    "for i in range(0, k):\n",
    "    x.append([x1[i], y1[i]])\n",
    "    x.append([x2[i], y2[i]])\n",
    "    y.append(1)\n",
    "    y.append(-1)\n",
    "\n",
    "    \n",
    "from sklearn.cross_validation import train_test_split\n",
    "x_train, x_test, y_train, y_test = train_test_split(x, y, test_size = 0.2)\n",
    "\n",
    "\n",
    "def grad(x, y, w):\n",
    "    #l = x.shape[0]\n",
    "    #arg1 = x.T\n",
    "    #arg2 = np.subtract(np.dot(x, w), y)\n",
    "    #return 0.5 * np.dot(arg1, arg2)\n",
    "    return -1. * y * x\n",
    "\n",
    "from numpy import linalg as la\n",
    "from random import randint\n",
    "\n",
    "class DClassifier(object):\n",
    "    \"\"\"docstring\"\"\"\n",
    " \n",
    "    def __init__(self):\n",
    "        \"\"\"Constructor\"\"\"\n",
    "        pass\n",
    "    \n",
    "    def fit(self, x_arr, y_arr):\n",
    "        x = np.array(x_arr)\n",
    "        x = x.reshape(x.shape[0], -1)\n",
    "        l = x.shape[0]\n",
    "        x_expanded = np.hstack((x, np.ones((l, 1))))\n",
    "        d = x.shape[1]\n",
    "        y = np.array(y_arr)\n",
    "        self.w = np.zeros(d + 1)\n",
    "        c = 0.5\n",
    "        eps = 0.001\n",
    "        iter = 1\n",
    "    \n",
    "        while True:\n",
    "            bad_indices = []\n",
    "            for i in range (0, l):\n",
    "                if y[i] * np.dot(x_expanded[i], self.w) < 1:\n",
    "                    bad_indices.append(i)\n",
    "            index = randint(0, len(bad_indices) - 1)\n",
    "            g = grad(x_expanded[bad_indices[index]], y[bad_indices[index]], self.w)\n",
    "            tmp = g * (c / iter)\n",
    "            prev = self.w\n",
    "            self.w = self.w - tmp\n",
    "            if (la.norm(self.w - prev) <= eps):\n",
    "                break\n",
    "            iter += 1\n",
    "        #return w\n",
    "\n",
    "        \n",
    "    def predict(self, x_arr):\n",
    "        arr = []\n",
    "        x_expanded = np.hstack((x_arr, np.ones((len(x_arr), 1))))\n",
    "        for i in range(0, len(x_arr)):\n",
    "            if (np.dot(x_expanded[i], self.w) >= 0):\n",
    "                arr.append(1)\n",
    "            else:\n",
    "                arr.append(-1)\n",
    "        return arr\n",
    "\n",
    "clf = DClassifier()\n",
    "clf.fit(x_train, y_train)\n",
    "test = clf.predict([[1, 2], [-1, -2], [50, 49.1]])\n",
    "print test\n",
    "print 'end'"
   ]
  },
  {
   "cell_type": "code",
   "execution_count": 14,
   "metadata": {
    "collapsed": true
   },
   "outputs": [],
   "source": [
    "#шум добавлять ко второй координате?\n",
    "#batch = 1 всегда?\n",
    "#плоскость ~ z = 0 ?"
   ]
  },
  {
   "cell_type": "code",
   "execution_count": null,
   "metadata": {
    "collapsed": true
   },
   "outputs": [],
   "source": []
  }
 ],
 "metadata": {
  "kernelspec": {
   "display_name": "Python 2",
   "language": "python",
   "name": "python2"
  },
  "language_info": {
   "codemirror_mode": {
    "name": "ipython",
    "version": 2
   },
   "file_extension": ".py",
   "mimetype": "text/x-python",
   "name": "python",
   "nbconvert_exporter": "python",
   "pygments_lexer": "ipython2",
   "version": "2.7.14"
  }
 },
 "nbformat": 4,
 "nbformat_minor": 2
}
